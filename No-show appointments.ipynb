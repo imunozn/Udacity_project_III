{
 "cells": [
  {
   "cell_type": "markdown",
   "metadata": {},
   "source": [
    "# <u> Project: Investigate a Dataset <b>No-show appointments</b></u>\n",
    "###  This analisys is based on \"No-show appointments\"  document, which has a record of some medical appointments made in Brazil. The objective is identify the principal trends related to the next question: \n",
    "# <b> Why do people fail with their medical appointment? </b>\n",
    "\n",
    "Some initial questions are: \n",
    "1. Who miss their appointments the most? Men or women? \n",
    "2. Do people with particular diseases/conditions have more absence rates rather than others?\n",
    "3. Are the beneficiaries (scholarship) who miss their appointments the most?\n",
    "4. Is people who received reminder SMS those who miss their appointments the least?\n",
    "5. Are young/elderly people who miss their appointments the most? \n",
    "6. What weekday people miss their appointments the most?"
   ]
  },
  {
   "cell_type": "code",
   "execution_count": 5,
   "metadata": {},
   "outputs": [
    {
     "data": {
      "text/html": [
       "<div>\n",
       "<style scoped>\n",
       "    .dataframe tbody tr th:only-of-type {\n",
       "        vertical-align: middle;\n",
       "    }\n",
       "\n",
       "    .dataframe tbody tr th {\n",
       "        vertical-align: top;\n",
       "    }\n",
       "\n",
       "    .dataframe thead th {\n",
       "        text-align: right;\n",
       "    }\n",
       "</style>\n",
       "<table border=\"1\" class=\"dataframe\">\n",
       "  <thead>\n",
       "    <tr style=\"text-align: right;\">\n",
       "      <th></th>\n",
       "      <th>PatientId</th>\n",
       "      <th>AppointmentID</th>\n",
       "      <th>Gender</th>\n",
       "      <th>ScheduledDay</th>\n",
       "      <th>AppointmentDay</th>\n",
       "      <th>Age</th>\n",
       "      <th>Neighbourhood</th>\n",
       "      <th>Scholarship</th>\n",
       "      <th>Hipertension</th>\n",
       "      <th>Diabetes</th>\n",
       "      <th>Alcoholism</th>\n",
       "      <th>Handcap</th>\n",
       "      <th>SMS_received</th>\n",
       "      <th>No-show</th>\n",
       "    </tr>\n",
       "  </thead>\n",
       "  <tbody>\n",
       "    <tr>\n",
       "      <th>0</th>\n",
       "      <td>2.987250e+13</td>\n",
       "      <td>5642903</td>\n",
       "      <td>F</td>\n",
       "      <td>2016-04-29T18:38:08Z</td>\n",
       "      <td>2016-04-29T00:00:00Z</td>\n",
       "      <td>62</td>\n",
       "      <td>JARDIM DA PENHA</td>\n",
       "      <td>0</td>\n",
       "      <td>1</td>\n",
       "      <td>0</td>\n",
       "      <td>0</td>\n",
       "      <td>0</td>\n",
       "      <td>0</td>\n",
       "      <td>No</td>\n",
       "    </tr>\n",
       "  </tbody>\n",
       "</table>\n",
       "</div>"
      ],
      "text/plain": [
       "      PatientId  AppointmentID Gender          ScheduledDay  \\\n",
       "0  2.987250e+13        5642903      F  2016-04-29T18:38:08Z   \n",
       "\n",
       "         AppointmentDay  Age    Neighbourhood  Scholarship  Hipertension  \\\n",
       "0  2016-04-29T00:00:00Z   62  JARDIM DA PENHA            0             1   \n",
       "\n",
       "   Diabetes  Alcoholism  Handcap  SMS_received No-show  \n",
       "0         0           0        0             0      No  "
      ]
     },
     "execution_count": 5,
     "metadata": {},
     "output_type": "execute_result"
    }
   ],
   "source": [
    "import pandas as pd\n",
    "import numpy as np\n",
    "import time\n",
    "import matplotlib.pyplot as plt\n",
    "%matplotlib inline\n",
    "\n",
    "df = pd.read_csv(r\"C:\\Users\\GeoBlast\\OneDrive - usach.cl\\CURSO UDACITY\\proy3\\noshowappointments-kagglev2-may-2016.csv\")\n",
    "df.head(1)"
   ]
  },
  {
   "cell_type": "markdown",
   "metadata": {},
   "source": [
    "##### With df.info(), we can see the main features of this csv. Apparently, there is not missing values.\n"
   ]
  },
  {
   "cell_type": "code",
   "execution_count": 6,
   "metadata": {},
   "outputs": [
    {
     "name": "stdout",
     "output_type": "stream",
     "text": [
      "<class 'pandas.core.frame.DataFrame'>\n",
      "RangeIndex: 110527 entries, 0 to 110526\n",
      "Data columns (total 14 columns):\n",
      " #   Column          Non-Null Count   Dtype  \n",
      "---  ------          --------------   -----  \n",
      " 0   PatientId       110527 non-null  float64\n",
      " 1   AppointmentID   110527 non-null  int64  \n",
      " 2   Gender          110527 non-null  object \n",
      " 3   ScheduledDay    110527 non-null  object \n",
      " 4   AppointmentDay  110527 non-null  object \n",
      " 5   Age             110527 non-null  int64  \n",
      " 6   Neighbourhood   110527 non-null  object \n",
      " 7   Scholarship     110527 non-null  int64  \n",
      " 8   Hipertension    110527 non-null  int64  \n",
      " 9   Diabetes        110527 non-null  int64  \n",
      " 10  Alcoholism      110527 non-null  int64  \n",
      " 11  Handcap         110527 non-null  int64  \n",
      " 12  SMS_received    110527 non-null  int64  \n",
      " 13  No-show         110527 non-null  object \n",
      "dtypes: float64(1), int64(8), object(5)\n",
      "memory usage: 11.8+ MB\n"
     ]
    }
   ],
   "source": [
    "df.info()"
   ]
  },
  {
   "cell_type": "code",
   "execution_count": 7,
   "metadata": {},
   "outputs": [
    {
     "data": {
      "text/plain": [
       "(110527, 14)"
      ]
     },
     "execution_count": 7,
     "metadata": {},
     "output_type": "execute_result"
    }
   ],
   "source": [
    "df.dropna(inplace = True)\n",
    "df.shape"
   ]
  },
  {
   "cell_type": "markdown",
   "metadata": {},
   "source": [
    "#### Now, the .csv file does not have NAN values. \n",
    "#### The next step is to drop unnecessary data (AppointmentID and PatientID)"
   ]
  },
  {
   "cell_type": "code",
   "execution_count": 8,
   "metadata": {},
   "outputs": [],
   "source": [
    "df_d = df.drop(columns = ['PatientId', 'AppointmentID'])"
   ]
  },
  {
   "cell_type": "code",
   "execution_count": 9,
   "metadata": {},
   "outputs": [
    {
     "name": "stdout",
     "output_type": "stream",
     "text": [
      "<class 'pandas.core.frame.DataFrame'>\n",
      "Int64Index: 110527 entries, 0 to 110526\n",
      "Data columns (total 12 columns):\n",
      " #   Column          Non-Null Count   Dtype \n",
      "---  ------          --------------   ----- \n",
      " 0   Gender          110527 non-null  object\n",
      " 1   ScheduledDay    110527 non-null  object\n",
      " 2   AppointmentDay  110527 non-null  object\n",
      " 3   Age             110527 non-null  int64 \n",
      " 4   Neighbourhood   110527 non-null  object\n",
      " 5   Scholarship     110527 non-null  int64 \n",
      " 6   Hipertension    110527 non-null  int64 \n",
      " 7   Diabetes        110527 non-null  int64 \n",
      " 8   Alcoholism      110527 non-null  int64 \n",
      " 9   Handcap         110527 non-null  int64 \n",
      " 10  SMS_received    110527 non-null  int64 \n",
      " 11  No-show         110527 non-null  object\n",
      "dtypes: int64(7), object(5)\n",
      "memory usage: 11.0+ MB\n"
     ]
    }
   ],
   "source": [
    "df_d.info()"
   ]
  },
  {
   "cell_type": "markdown",
   "metadata": {},
   "source": [
    "#### Next step: Renaming columns, to keep the writing standard:"
   ]
  },
  {
   "cell_type": "code",
   "execution_count": 10,
   "metadata": {},
   "outputs": [
    {
     "data": {
      "text/html": [
       "<div>\n",
       "<style scoped>\n",
       "    .dataframe tbody tr th:only-of-type {\n",
       "        vertical-align: middle;\n",
       "    }\n",
       "\n",
       "    .dataframe tbody tr th {\n",
       "        vertical-align: top;\n",
       "    }\n",
       "\n",
       "    .dataframe thead th {\n",
       "        text-align: right;\n",
       "    }\n",
       "</style>\n",
       "<table border=\"1\" class=\"dataframe\">\n",
       "  <thead>\n",
       "    <tr style=\"text-align: right;\">\n",
       "      <th></th>\n",
       "      <th>Gender</th>\n",
       "      <th>ScheduledDay</th>\n",
       "      <th>AppointmentDay</th>\n",
       "      <th>Age</th>\n",
       "      <th>Neighbourhood</th>\n",
       "      <th>Scholarship</th>\n",
       "      <th>Hipertension</th>\n",
       "      <th>Diabetes</th>\n",
       "      <th>Alcoholism</th>\n",
       "      <th>Handcap</th>\n",
       "      <th>SMS_received</th>\n",
       "      <th>no_show</th>\n",
       "    </tr>\n",
       "  </thead>\n",
       "  <tbody>\n",
       "    <tr>\n",
       "      <th>0</th>\n",
       "      <td>F</td>\n",
       "      <td>2016-04-29T18:38:08Z</td>\n",
       "      <td>2016-04-29T00:00:00Z</td>\n",
       "      <td>62</td>\n",
       "      <td>JARDIM DA PENHA</td>\n",
       "      <td>0</td>\n",
       "      <td>1</td>\n",
       "      <td>0</td>\n",
       "      <td>0</td>\n",
       "      <td>0</td>\n",
       "      <td>0</td>\n",
       "      <td>No</td>\n",
       "    </tr>\n",
       "    <tr>\n",
       "      <th>1</th>\n",
       "      <td>M</td>\n",
       "      <td>2016-04-29T16:08:27Z</td>\n",
       "      <td>2016-04-29T00:00:00Z</td>\n",
       "      <td>56</td>\n",
       "      <td>JARDIM DA PENHA</td>\n",
       "      <td>0</td>\n",
       "      <td>0</td>\n",
       "      <td>0</td>\n",
       "      <td>0</td>\n",
       "      <td>0</td>\n",
       "      <td>0</td>\n",
       "      <td>No</td>\n",
       "    </tr>\n",
       "    <tr>\n",
       "      <th>2</th>\n",
       "      <td>F</td>\n",
       "      <td>2016-04-29T16:19:04Z</td>\n",
       "      <td>2016-04-29T00:00:00Z</td>\n",
       "      <td>62</td>\n",
       "      <td>MATA DA PRAIA</td>\n",
       "      <td>0</td>\n",
       "      <td>0</td>\n",
       "      <td>0</td>\n",
       "      <td>0</td>\n",
       "      <td>0</td>\n",
       "      <td>0</td>\n",
       "      <td>No</td>\n",
       "    </tr>\n",
       "    <tr>\n",
       "      <th>3</th>\n",
       "      <td>F</td>\n",
       "      <td>2016-04-29T17:29:31Z</td>\n",
       "      <td>2016-04-29T00:00:00Z</td>\n",
       "      <td>8</td>\n",
       "      <td>PONTAL DE CAMBURI</td>\n",
       "      <td>0</td>\n",
       "      <td>0</td>\n",
       "      <td>0</td>\n",
       "      <td>0</td>\n",
       "      <td>0</td>\n",
       "      <td>0</td>\n",
       "      <td>No</td>\n",
       "    </tr>\n",
       "    <tr>\n",
       "      <th>4</th>\n",
       "      <td>F</td>\n",
       "      <td>2016-04-29T16:07:23Z</td>\n",
       "      <td>2016-04-29T00:00:00Z</td>\n",
       "      <td>56</td>\n",
       "      <td>JARDIM DA PENHA</td>\n",
       "      <td>0</td>\n",
       "      <td>1</td>\n",
       "      <td>1</td>\n",
       "      <td>0</td>\n",
       "      <td>0</td>\n",
       "      <td>0</td>\n",
       "      <td>No</td>\n",
       "    </tr>\n",
       "    <tr>\n",
       "      <th>...</th>\n",
       "      <td>...</td>\n",
       "      <td>...</td>\n",
       "      <td>...</td>\n",
       "      <td>...</td>\n",
       "      <td>...</td>\n",
       "      <td>...</td>\n",
       "      <td>...</td>\n",
       "      <td>...</td>\n",
       "      <td>...</td>\n",
       "      <td>...</td>\n",
       "      <td>...</td>\n",
       "      <td>...</td>\n",
       "    </tr>\n",
       "    <tr>\n",
       "      <th>110522</th>\n",
       "      <td>F</td>\n",
       "      <td>2016-05-03T09:15:35Z</td>\n",
       "      <td>2016-06-07T00:00:00Z</td>\n",
       "      <td>56</td>\n",
       "      <td>MARIA ORTIZ</td>\n",
       "      <td>0</td>\n",
       "      <td>0</td>\n",
       "      <td>0</td>\n",
       "      <td>0</td>\n",
       "      <td>0</td>\n",
       "      <td>1</td>\n",
       "      <td>No</td>\n",
       "    </tr>\n",
       "    <tr>\n",
       "      <th>110523</th>\n",
       "      <td>F</td>\n",
       "      <td>2016-05-03T07:27:33Z</td>\n",
       "      <td>2016-06-07T00:00:00Z</td>\n",
       "      <td>51</td>\n",
       "      <td>MARIA ORTIZ</td>\n",
       "      <td>0</td>\n",
       "      <td>0</td>\n",
       "      <td>0</td>\n",
       "      <td>0</td>\n",
       "      <td>0</td>\n",
       "      <td>1</td>\n",
       "      <td>No</td>\n",
       "    </tr>\n",
       "    <tr>\n",
       "      <th>110524</th>\n",
       "      <td>F</td>\n",
       "      <td>2016-04-27T16:03:52Z</td>\n",
       "      <td>2016-06-07T00:00:00Z</td>\n",
       "      <td>21</td>\n",
       "      <td>MARIA ORTIZ</td>\n",
       "      <td>0</td>\n",
       "      <td>0</td>\n",
       "      <td>0</td>\n",
       "      <td>0</td>\n",
       "      <td>0</td>\n",
       "      <td>1</td>\n",
       "      <td>No</td>\n",
       "    </tr>\n",
       "    <tr>\n",
       "      <th>110525</th>\n",
       "      <td>F</td>\n",
       "      <td>2016-04-27T15:09:23Z</td>\n",
       "      <td>2016-06-07T00:00:00Z</td>\n",
       "      <td>38</td>\n",
       "      <td>MARIA ORTIZ</td>\n",
       "      <td>0</td>\n",
       "      <td>0</td>\n",
       "      <td>0</td>\n",
       "      <td>0</td>\n",
       "      <td>0</td>\n",
       "      <td>1</td>\n",
       "      <td>No</td>\n",
       "    </tr>\n",
       "    <tr>\n",
       "      <th>110526</th>\n",
       "      <td>F</td>\n",
       "      <td>2016-04-27T13:30:56Z</td>\n",
       "      <td>2016-06-07T00:00:00Z</td>\n",
       "      <td>54</td>\n",
       "      <td>MARIA ORTIZ</td>\n",
       "      <td>0</td>\n",
       "      <td>0</td>\n",
       "      <td>0</td>\n",
       "      <td>0</td>\n",
       "      <td>0</td>\n",
       "      <td>1</td>\n",
       "      <td>No</td>\n",
       "    </tr>\n",
       "  </tbody>\n",
       "</table>\n",
       "<p>110527 rows × 12 columns</p>\n",
       "</div>"
      ],
      "text/plain": [
       "       Gender          ScheduledDay        AppointmentDay  Age  \\\n",
       "0           F  2016-04-29T18:38:08Z  2016-04-29T00:00:00Z   62   \n",
       "1           M  2016-04-29T16:08:27Z  2016-04-29T00:00:00Z   56   \n",
       "2           F  2016-04-29T16:19:04Z  2016-04-29T00:00:00Z   62   \n",
       "3           F  2016-04-29T17:29:31Z  2016-04-29T00:00:00Z    8   \n",
       "4           F  2016-04-29T16:07:23Z  2016-04-29T00:00:00Z   56   \n",
       "...       ...                   ...                   ...  ...   \n",
       "110522      F  2016-05-03T09:15:35Z  2016-06-07T00:00:00Z   56   \n",
       "110523      F  2016-05-03T07:27:33Z  2016-06-07T00:00:00Z   51   \n",
       "110524      F  2016-04-27T16:03:52Z  2016-06-07T00:00:00Z   21   \n",
       "110525      F  2016-04-27T15:09:23Z  2016-06-07T00:00:00Z   38   \n",
       "110526      F  2016-04-27T13:30:56Z  2016-06-07T00:00:00Z   54   \n",
       "\n",
       "            Neighbourhood  Scholarship  Hipertension  Diabetes  Alcoholism  \\\n",
       "0         JARDIM DA PENHA            0             1         0           0   \n",
       "1         JARDIM DA PENHA            0             0         0           0   \n",
       "2           MATA DA PRAIA            0             0         0           0   \n",
       "3       PONTAL DE CAMBURI            0             0         0           0   \n",
       "4         JARDIM DA PENHA            0             1         1           0   \n",
       "...                   ...          ...           ...       ...         ...   \n",
       "110522        MARIA ORTIZ            0             0         0           0   \n",
       "110523        MARIA ORTIZ            0             0         0           0   \n",
       "110524        MARIA ORTIZ            0             0         0           0   \n",
       "110525        MARIA ORTIZ            0             0         0           0   \n",
       "110526        MARIA ORTIZ            0             0         0           0   \n",
       "\n",
       "        Handcap  SMS_received no_show  \n",
       "0             0             0      No  \n",
       "1             0             0      No  \n",
       "2             0             0      No  \n",
       "3             0             0      No  \n",
       "4             0             0      No  \n",
       "...         ...           ...     ...  \n",
       "110522        0             1      No  \n",
       "110523        0             1      No  \n",
       "110524        0             1      No  \n",
       "110525        0             1      No  \n",
       "110526        0             1      No  \n",
       "\n",
       "[110527 rows x 12 columns]"
      ]
     },
     "execution_count": 10,
     "metadata": {},
     "output_type": "execute_result"
    }
   ],
   "source": [
    "df_d.rename(columns = {'No-show': 'no_show'}, inplace = True)\n",
    "df_d"
   ]
  },
  {
   "cell_type": "code",
   "execution_count": 11,
   "metadata": {},
   "outputs": [
    {
     "name": "stdout",
     "output_type": "stream",
     "text": [
      "<class 'pandas.core.frame.DataFrame'>\n",
      "Int64Index: 110527 entries, 0 to 110526\n",
      "Data columns (total 12 columns):\n",
      " #   Column           Non-Null Count   Dtype \n",
      "---  ------           --------------   ----- \n",
      " 0   gender           110527 non-null  object\n",
      " 1   scheduled_day    110527 non-null  object\n",
      " 2   appointment_day  110527 non-null  object\n",
      " 3   age              110527 non-null  int64 \n",
      " 4   neighbourhood    110527 non-null  object\n",
      " 5   scholarship      110527 non-null  int64 \n",
      " 6   hipertension     110527 non-null  int64 \n",
      " 7   diabetes         110527 non-null  int64 \n",
      " 8   alcoholism       110527 non-null  int64 \n",
      " 9   handcap          110527 non-null  int64 \n",
      " 10  sms_received     110527 non-null  int64 \n",
      " 11  no_show          110527 non-null  object\n",
      "dtypes: int64(7), object(5)\n",
      "memory usage: 11.0+ MB\n"
     ]
    }
   ],
   "source": [
    "df_d.columns = map(str.lower, df_d.columns)\n",
    "df_d.rename(columns = {'scheduledday': 'scheduled_day', 'appointmentday': 'appointment_day'}, inplace = True)\n",
    "df_d.info()"
   ]
  },
  {
   "cell_type": "markdown",
   "metadata": {},
   "source": [
    "#### As we can see in df_d.info(),  scheduled_day and appointment_day are described as OBJECTS, but datetime format is required to work with them. So: "
   ]
  },
  {
   "cell_type": "code",
   "execution_count": 12,
   "metadata": {},
   "outputs": [
    {
     "data": {
      "text/html": [
       "<div>\n",
       "<style scoped>\n",
       "    .dataframe tbody tr th:only-of-type {\n",
       "        vertical-align: middle;\n",
       "    }\n",
       "\n",
       "    .dataframe tbody tr th {\n",
       "        vertical-align: top;\n",
       "    }\n",
       "\n",
       "    .dataframe thead th {\n",
       "        text-align: right;\n",
       "    }\n",
       "</style>\n",
       "<table border=\"1\" class=\"dataframe\">\n",
       "  <thead>\n",
       "    <tr style=\"text-align: right;\">\n",
       "      <th></th>\n",
       "      <th>gender</th>\n",
       "      <th>scheduled_day</th>\n",
       "      <th>appointment_day</th>\n",
       "      <th>age</th>\n",
       "      <th>neighbourhood</th>\n",
       "      <th>scholarship</th>\n",
       "      <th>hipertension</th>\n",
       "      <th>diabetes</th>\n",
       "      <th>alcoholism</th>\n",
       "      <th>handcap</th>\n",
       "      <th>sms_received</th>\n",
       "      <th>no_show</th>\n",
       "    </tr>\n",
       "  </thead>\n",
       "  <tbody>\n",
       "    <tr>\n",
       "      <th>0</th>\n",
       "      <td>F</td>\n",
       "      <td>2016-04-29 18:38:08+00:00</td>\n",
       "      <td>2016-04-29 00:00:00+00:00</td>\n",
       "      <td>62</td>\n",
       "      <td>JARDIM DA PENHA</td>\n",
       "      <td>0</td>\n",
       "      <td>1</td>\n",
       "      <td>0</td>\n",
       "      <td>0</td>\n",
       "      <td>0</td>\n",
       "      <td>0</td>\n",
       "      <td>No</td>\n",
       "    </tr>\n",
       "    <tr>\n",
       "      <th>1</th>\n",
       "      <td>M</td>\n",
       "      <td>2016-04-29 16:08:27+00:00</td>\n",
       "      <td>2016-04-29 00:00:00+00:00</td>\n",
       "      <td>56</td>\n",
       "      <td>JARDIM DA PENHA</td>\n",
       "      <td>0</td>\n",
       "      <td>0</td>\n",
       "      <td>0</td>\n",
       "      <td>0</td>\n",
       "      <td>0</td>\n",
       "      <td>0</td>\n",
       "      <td>No</td>\n",
       "    </tr>\n",
       "    <tr>\n",
       "      <th>2</th>\n",
       "      <td>F</td>\n",
       "      <td>2016-04-29 16:19:04+00:00</td>\n",
       "      <td>2016-04-29 00:00:00+00:00</td>\n",
       "      <td>62</td>\n",
       "      <td>MATA DA PRAIA</td>\n",
       "      <td>0</td>\n",
       "      <td>0</td>\n",
       "      <td>0</td>\n",
       "      <td>0</td>\n",
       "      <td>0</td>\n",
       "      <td>0</td>\n",
       "      <td>No</td>\n",
       "    </tr>\n",
       "    <tr>\n",
       "      <th>3</th>\n",
       "      <td>F</td>\n",
       "      <td>2016-04-29 17:29:31+00:00</td>\n",
       "      <td>2016-04-29 00:00:00+00:00</td>\n",
       "      <td>8</td>\n",
       "      <td>PONTAL DE CAMBURI</td>\n",
       "      <td>0</td>\n",
       "      <td>0</td>\n",
       "      <td>0</td>\n",
       "      <td>0</td>\n",
       "      <td>0</td>\n",
       "      <td>0</td>\n",
       "      <td>No</td>\n",
       "    </tr>\n",
       "    <tr>\n",
       "      <th>4</th>\n",
       "      <td>F</td>\n",
       "      <td>2016-04-29 16:07:23+00:00</td>\n",
       "      <td>2016-04-29 00:00:00+00:00</td>\n",
       "      <td>56</td>\n",
       "      <td>JARDIM DA PENHA</td>\n",
       "      <td>0</td>\n",
       "      <td>1</td>\n",
       "      <td>1</td>\n",
       "      <td>0</td>\n",
       "      <td>0</td>\n",
       "      <td>0</td>\n",
       "      <td>No</td>\n",
       "    </tr>\n",
       "    <tr>\n",
       "      <th>...</th>\n",
       "      <td>...</td>\n",
       "      <td>...</td>\n",
       "      <td>...</td>\n",
       "      <td>...</td>\n",
       "      <td>...</td>\n",
       "      <td>...</td>\n",
       "      <td>...</td>\n",
       "      <td>...</td>\n",
       "      <td>...</td>\n",
       "      <td>...</td>\n",
       "      <td>...</td>\n",
       "      <td>...</td>\n",
       "    </tr>\n",
       "    <tr>\n",
       "      <th>110522</th>\n",
       "      <td>F</td>\n",
       "      <td>2016-05-03 09:15:35+00:00</td>\n",
       "      <td>2016-06-07 00:00:00+00:00</td>\n",
       "      <td>56</td>\n",
       "      <td>MARIA ORTIZ</td>\n",
       "      <td>0</td>\n",
       "      <td>0</td>\n",
       "      <td>0</td>\n",
       "      <td>0</td>\n",
       "      <td>0</td>\n",
       "      <td>1</td>\n",
       "      <td>No</td>\n",
       "    </tr>\n",
       "    <tr>\n",
       "      <th>110523</th>\n",
       "      <td>F</td>\n",
       "      <td>2016-05-03 07:27:33+00:00</td>\n",
       "      <td>2016-06-07 00:00:00+00:00</td>\n",
       "      <td>51</td>\n",
       "      <td>MARIA ORTIZ</td>\n",
       "      <td>0</td>\n",
       "      <td>0</td>\n",
       "      <td>0</td>\n",
       "      <td>0</td>\n",
       "      <td>0</td>\n",
       "      <td>1</td>\n",
       "      <td>No</td>\n",
       "    </tr>\n",
       "    <tr>\n",
       "      <th>110524</th>\n",
       "      <td>F</td>\n",
       "      <td>2016-04-27 16:03:52+00:00</td>\n",
       "      <td>2016-06-07 00:00:00+00:00</td>\n",
       "      <td>21</td>\n",
       "      <td>MARIA ORTIZ</td>\n",
       "      <td>0</td>\n",
       "      <td>0</td>\n",
       "      <td>0</td>\n",
       "      <td>0</td>\n",
       "      <td>0</td>\n",
       "      <td>1</td>\n",
       "      <td>No</td>\n",
       "    </tr>\n",
       "    <tr>\n",
       "      <th>110525</th>\n",
       "      <td>F</td>\n",
       "      <td>2016-04-27 15:09:23+00:00</td>\n",
       "      <td>2016-06-07 00:00:00+00:00</td>\n",
       "      <td>38</td>\n",
       "      <td>MARIA ORTIZ</td>\n",
       "      <td>0</td>\n",
       "      <td>0</td>\n",
       "      <td>0</td>\n",
       "      <td>0</td>\n",
       "      <td>0</td>\n",
       "      <td>1</td>\n",
       "      <td>No</td>\n",
       "    </tr>\n",
       "    <tr>\n",
       "      <th>110526</th>\n",
       "      <td>F</td>\n",
       "      <td>2016-04-27 13:30:56+00:00</td>\n",
       "      <td>2016-06-07 00:00:00+00:00</td>\n",
       "      <td>54</td>\n",
       "      <td>MARIA ORTIZ</td>\n",
       "      <td>0</td>\n",
       "      <td>0</td>\n",
       "      <td>0</td>\n",
       "      <td>0</td>\n",
       "      <td>0</td>\n",
       "      <td>1</td>\n",
       "      <td>No</td>\n",
       "    </tr>\n",
       "  </tbody>\n",
       "</table>\n",
       "<p>110527 rows × 12 columns</p>\n",
       "</div>"
      ],
      "text/plain": [
       "       gender             scheduled_day           appointment_day  age  \\\n",
       "0           F 2016-04-29 18:38:08+00:00 2016-04-29 00:00:00+00:00   62   \n",
       "1           M 2016-04-29 16:08:27+00:00 2016-04-29 00:00:00+00:00   56   \n",
       "2           F 2016-04-29 16:19:04+00:00 2016-04-29 00:00:00+00:00   62   \n",
       "3           F 2016-04-29 17:29:31+00:00 2016-04-29 00:00:00+00:00    8   \n",
       "4           F 2016-04-29 16:07:23+00:00 2016-04-29 00:00:00+00:00   56   \n",
       "...       ...                       ...                       ...  ...   \n",
       "110522      F 2016-05-03 09:15:35+00:00 2016-06-07 00:00:00+00:00   56   \n",
       "110523      F 2016-05-03 07:27:33+00:00 2016-06-07 00:00:00+00:00   51   \n",
       "110524      F 2016-04-27 16:03:52+00:00 2016-06-07 00:00:00+00:00   21   \n",
       "110525      F 2016-04-27 15:09:23+00:00 2016-06-07 00:00:00+00:00   38   \n",
       "110526      F 2016-04-27 13:30:56+00:00 2016-06-07 00:00:00+00:00   54   \n",
       "\n",
       "            neighbourhood  scholarship  hipertension  diabetes  alcoholism  \\\n",
       "0         JARDIM DA PENHA            0             1         0           0   \n",
       "1         JARDIM DA PENHA            0             0         0           0   \n",
       "2           MATA DA PRAIA            0             0         0           0   \n",
       "3       PONTAL DE CAMBURI            0             0         0           0   \n",
       "4         JARDIM DA PENHA            0             1         1           0   \n",
       "...                   ...          ...           ...       ...         ...   \n",
       "110522        MARIA ORTIZ            0             0         0           0   \n",
       "110523        MARIA ORTIZ            0             0         0           0   \n",
       "110524        MARIA ORTIZ            0             0         0           0   \n",
       "110525        MARIA ORTIZ            0             0         0           0   \n",
       "110526        MARIA ORTIZ            0             0         0           0   \n",
       "\n",
       "        handcap  sms_received no_show  \n",
       "0             0             0      No  \n",
       "1             0             0      No  \n",
       "2             0             0      No  \n",
       "3             0             0      No  \n",
       "4             0             0      No  \n",
       "...         ...           ...     ...  \n",
       "110522        0             1      No  \n",
       "110523        0             1      No  \n",
       "110524        0             1      No  \n",
       "110525        0             1      No  \n",
       "110526        0             1      No  \n",
       "\n",
       "[110527 rows x 12 columns]"
      ]
     },
     "execution_count": 12,
     "metadata": {},
     "output_type": "execute_result"
    }
   ],
   "source": [
    "df_d['scheduled_day'] = pd.to_datetime(df_d['scheduled_day'])\n",
    "df_d['appointment_day'] = pd.to_datetime(df_d['appointment_day'])\n",
    "df_d"
   ]
  },
  {
   "cell_type": "markdown",
   "metadata": {},
   "source": [
    "#### After seeing the values in appointment_day column, It turns out that it is not possible to classify by hour: apparently, people was not allowed to \"reserve\" a specific hour...\n",
    "\n",
    "#### Also, it is necessary to drop duplicated rows:"
   ]
  },
  {
   "cell_type": "code",
   "execution_count": 13,
   "metadata": {},
   "outputs": [
    {
     "data": {
      "text/plain": [
       "0"
      ]
     },
     "execution_count": 13,
     "metadata": {},
     "output_type": "execute_result"
    }
   ],
   "source": [
    "df_d.drop_duplicates(inplace = True)\n",
    "df_d.duplicated().sum()"
   ]
  },
  {
   "cell_type": "markdown",
   "metadata": {},
   "source": [
    "#### After that, there is no longer duplicate entries. \n",
    "### Analysis:  Who miss their appointments the most? Men or women? \n",
    "Firstly, it is necessary to estimate the total of missed appointments, and how much is from the total of appointments."
   ]
  },
  {
   "cell_type": "code",
   "execution_count": 14,
   "metadata": {},
   "outputs": [
    {
     "name": "stdout",
     "output_type": "stream",
     "text": [
      "22098 appointments were lost, a 20.1% of the total(109892).\n"
     ]
    }
   ],
   "source": [
    "absence = df_d.query('no_show == \"Yes\"')\n",
    "present = df_d.query('no_show == \"No\"')\n",
    "total = df_d.shape[0]\n",
    "print('{} appointments were lost, a {}% of the total({}).'.format(absence['no_show'].count(), round(100 *absence['no_show'].count() / total, 1), total))"
   ]
  },
  {
   "cell_type": "code",
   "execution_count": 15,
   "metadata": {},
   "outputs": [
    {
     "data": {
      "image/png": "[encoded data removed]",
      "text/plain": [
       "<Figure size 432x288 with 1 Axes>"
      ]
     },
     "metadata": {
      "needs_background": "light"
     },
     "output_type": "display_data"
    }
   ],
   "source": [
    "height = [present['no_show'].count(), absence['no_show'].count()]\n",
    "\n",
    "plt.bar([\"Successful\", \"Missed\"], height, alpha = 0.5)\n",
    "plt.title(\"Distribution of appointments\")\n",
    "plt.xlabel(\"Result\")\n",
    "plt.ylabel(\"Total of appointments\");\n"
   ]
  },
  {
   "cell_type": "code",
   "execution_count": 16,
   "metadata": {},
   "outputs": [
    {
     "name": "stdout",
     "output_type": "stream",
     "text": [
      "Total entries: 109892, where 71417 (65.0%) are women and 38475 (35.0%) are men\n"
     ]
    }
   ],
   "source": [
    "F = df_d['gender'].value_counts()[0]\n",
    "M = df_d['gender'].value_counts()[1]\n",
    "\n",
    "print(\"Total entries: {}, where {} ({}%) are women and {} ({}%) are men\".format(total, F, round(100 * F/total, 1), M, round(100 * M/total, 1)))"
   ]
  },
  {
   "cell_type": "code",
   "execution_count": 17,
   "metadata": {},
   "outputs": [
    {
     "data": {
      "image/png": "[encoded data removed]",
      "text/plain": [
       "<Figure size 432x288 with 1 Axes>"
      ]
     },
     "metadata": {
      "needs_background": "light"
     },
     "output_type": "display_data"
    }
   ],
   "source": [
    "df_d['gender'].value_counts().plot(kind = 'bar');"
   ]
  },
  {
   "cell_type": "markdown",
   "metadata": {},
   "source": [
    "#### In the next cell, data will be classified to analyze the absence based on gender: "
   ]
  },
  {
   "cell_type": "code",
   "execution_count": 18,
   "metadata": {},
   "outputs": [
    {
     "data": {
      "text/plain": [
       "no_show  gender\n",
       "No       F         56962\n",
       "         M         30832\n",
       "Yes      F         14455\n",
       "         M          7643\n",
       "Name: gender, dtype: int64"
      ]
     },
     "execution_count": 18,
     "metadata": {},
     "output_type": "execute_result"
    }
   ],
   "source": [
    "df_g = df_d.groupby(['no_show'])['gender'].value_counts()\n",
    "df_g"
   ]
  },
  {
   "cell_type": "code",
   "execution_count": 35,
   "metadata": {},
   "outputs": [
    {
     "data": {
      "image/png": "[encoded data removed]",
      "text/plain": [
       "<Figure size 432x288 with 1 Axes>"
      ]
     },
     "metadata": {
      "needs_background": "light"
     },
     "output_type": "display_data"
    }
   ],
   "source": [
    "# credits to \"Stacked Bar Chart\": https://matplotlib.org/gallery/lines_bars_and_markers/bar_stacked.html#sphx-glr-gallery-lines-bars-and-markers-bar-stacked-py\n",
    "# credits to \"How to specify Y Values?\" https://stackoverflow.com/questions/21393802/python-matplotlib-how-to-specify-values-on-y-axis\n",
    "\n",
    "labels = ['Female', 'Male']\n",
    "women = [56962, 14455]\n",
    "man = [30832, 7643]\n",
    "\n",
    "def plotting(labels, height_1, height_2, name_plot, ymin, ymax, ystep):\n",
    "    fig, ax = plt.subplots()\n",
    "    ax.bar(labels, height_1, label = 'Successful')\n",
    "    ax.bar(labels, height_2, bottom = height_1, label = 'Missed')\n",
    "    ax.set_ylabel('Number of people')\n",
    "    plt.yticks(np.arange(ymin, ymax, ystep))\n",
    "    ax.set_title(name_plot + ' (Stacked Bar Chart)\\n')\n",
    "    ax.legend()\n",
    "    plt.show()\n",
    "\n",
    "plotting(labels, women, man, 'Appointments by Gender', 0, 100000, 10000)"
   ]
  },
  {
   "cell_type": "markdown",
   "metadata": {},
   "source": [
    "From the total of medical appointment booked by women (71'417), 14'455 (20.2%) were missed, while the missed appointments between bookings made by men (38'475) is 7'643 (19.9%).\n",
    "\n",
    "\n",
    "### Analysis: Do people with particular diseases/conditions have more absence rates rather than others?\n",
    "\n",
    " #### 1) Handcap"
   ]
  },
  {
   "cell_type": "code",
   "execution_count": 23,
   "metadata": {},
   "outputs": [
    {
     "data": {
      "text/plain": [
       "0    107673\n",
       "1      2023\n",
       "2       182\n",
       "3        11\n",
       "4         3\n",
       "Name: handcap, dtype: int64"
      ]
     },
     "execution_count": 23,
     "metadata": {},
     "output_type": "execute_result"
    }
   ],
   "source": [
    "df_d['handcap'].value_counts()"
   ]
  },
  {
   "cell_type": "markdown",
   "metadata": {},
   "source": [
    "##### Looking for definitions about numbers in _hancap_ column, (Please go to https://www.kaggle.com/joniarrobanoshowappointments/discussion/202717 for more details), it turns out that, apparently, handcap and SMS_received columns were swapped. So, for practical purposes, any number except 0, will be considered as a representative of a patient with disability.\n"
   ]
  },
  {
   "cell_type": "code",
   "execution_count": 24,
   "metadata": {
    "scrolled": true
   },
   "outputs": [
    {
     "data": {
      "text/plain": [
       "0    107673\n",
       "1      2219\n",
       "Name: handcap, dtype: int64"
      ]
     },
     "execution_count": 24,
     "metadata": {},
     "output_type": "execute_result"
    }
   ],
   "source": [
    "for c in range(1,5):\n",
    "    df_d['handcap'].replace(c, 1, inplace = True)\n",
    "\n",
    "df_d['handcap'].value_counts()"
   ]
  },
  {
   "cell_type": "markdown",
   "metadata": {},
   "source": [
    "Grouping by if people missed their appointments:"
   ]
  },
  {
   "cell_type": "code",
   "execution_count": 25,
   "metadata": {
    "scrolled": true
   },
   "outputs": [
    {
     "data": {
      "text/plain": [
       "no_show  handcap\n",
       "No       0          85974\n",
       "         1           1820\n",
       "Yes      0          21699\n",
       "         1            399\n",
       "Name: handcap, dtype: int64"
      ]
     },
     "execution_count": 25,
     "metadata": {},
     "output_type": "execute_result"
    }
   ],
   "source": [
    "df_handcap = df_d.groupby(['no_show'])['handcap'].value_counts()\n",
    "df_handcap"
   ]
  },
  {
   "cell_type": "code",
   "execution_count": 37,
   "metadata": {},
   "outputs": [
    {
     "data": {
      "image/png": "[encoded data removed]",
      "text/plain": [
       "<Figure size 432x288 with 1 Axes>"
      ]
     },
     "metadata": {
      "needs_background": "light"
     },
     "output_type": "display_data"
    }
   ],
   "source": [
    "labels = ['No Handicap', 'Handicap']\n",
    "height_1 = [df_handcap[0], df_handcap[1]]\n",
    "height_2 = [df_handcap[2], df_handcap[3]]\n",
    "\n",
    "plotting(labels, height_1, height_2,  'Appointments by Disability', 0, 111000, 10000)\n"
   ]
  },
  {
   "cell_type": "code",
   "execution_count": 27,
   "metadata": {},
   "outputs": [
    {
     "name": "stdout",
     "output_type": "stream",
     "text": [
      "The proportion between handicapped and no handcapped missed appointments are: 18.0% and 20% respectively.\n"
     ]
    }
   ],
   "source": [
    "prop_no_han = df_handcap[2] / (df_handcap[0] + df_handcap[2])\n",
    "prop_han = df_handcap[3] / (df_handcap[1] + df_handcap[3])\n",
    "\n",
    "print('The proportion between handicapped and no handcapped missed appointments are: {}% and {}% respectively.'.format(round(100*prop_han, 1), round(100*prop_no_han), 1)) "
   ]
  },
  {
   "cell_type": "markdown",
   "metadata": {},
   "source": [
    "For disabled patients-based conclusions, please go to Conclusions (at the end of this document)\n",
    "\n",
    "\n",
    "\n",
    "#### 2) Patients with Diabetes:"
   ]
  },
  {
   "cell_type": "code",
   "execution_count": 28,
   "metadata": {},
   "outputs": [
    {
     "data": {
      "text/plain": [
       "no_show  diabetes\n",
       "No       0           81323\n",
       "         1            6471\n",
       "Yes      0           20676\n",
       "         1            1422\n",
       "Name: diabetes, dtype: int64"
      ]
     },
     "execution_count": 28,
     "metadata": {},
     "output_type": "execute_result"
    }
   ],
   "source": [
    "df_diabetes = df_d.groupby(['no_show'])['diabetes'].value_counts()\n",
    "df_diabetes"
   ]
  },
  {
   "cell_type": "code",
   "execution_count": 54,
   "metadata": {},
   "outputs": [
    {
     "data": {
      "image/png": "[encoded data removed]",
      "text/plain": [
       "<Figure size 432x288 with 1 Axes>"
      ]
     },
     "metadata": {
      "needs_background": "light"
     },
     "output_type": "display_data"
    }
   ],
   "source": [
    "labels = ['Non-Diabetes', 'Diabetes']\n",
    "no_dia = [df_diabetes[0], df_diabetes[1]]\n",
    "yes_dia = [df_diabetes[2], df_diabetes[3]]\n",
    "\n",
    "plotting(labels, no_dia, yes_dia, 'Appointments by Diabetes presence', 0, 110000, 10000)\n"
   ]
  },
  {
   "cell_type": "code",
   "execution_count": 42,
   "metadata": {},
   "outputs": [
    {
     "name": "stdout",
     "output_type": "stream",
     "text": [
      "The proportion of missed appointments between diabetic and non-diabetic patients are: 18.0% and 20% respectively.\n"
     ]
    }
   ],
   "source": [
    "prop_no_dia = df_diabetes[2] / (df_diabetes[0] + df_diabetes[2])\n",
    "prop_dia = df_diabetes[3] / (df_diabetes[1] + df_diabetes[3])\n",
    "\n",
    "print('The proportion of missed appointments between diabetic and non-diabetic patients are: {}% and {}% respectively.'.format(round(100*prop_dia, 1), round(100*prop_no_dia), 1)) "
   ]
  },
  {
   "cell_type": "markdown",
   "metadata": {},
   "source": [
    "#### 3) Alcoholism"
   ]
  },
  {
   "cell_type": "code",
   "execution_count": 43,
   "metadata": {},
   "outputs": [
    {
     "data": {
      "text/plain": [
       "no_show  alcoholism\n",
       "No       0             85118\n",
       "         1              2676\n",
       "Yes      0             21430\n",
       "         1               668\n",
       "Name: alcoholism, dtype: int64"
      ]
     },
     "execution_count": 43,
     "metadata": {},
     "output_type": "execute_result"
    }
   ],
   "source": [
    "df_alc = df_d.groupby(['no_show'])['alcoholism'].value_counts()\n",
    "df_alc"
   ]
  },
  {
   "cell_type": "code",
   "execution_count": 51,
   "metadata": {},
   "outputs": [
    {
     "data": {
      "image/png": "[encoded data removed]",
      "text/plain": [
       "<Figure size 432x288 with 1 Axes>"
      ]
     },
     "metadata": {
      "needs_background": "light"
     },
     "output_type": "display_data"
    }
   ],
   "source": [
    "labels = ['Non-Alcoholic', 'Alcoholic']\n",
    "no_alc = [df_alc[0], df_alc[1]]\n",
    "yes_alc = [df_alc[2], df_alc[3]]\n",
    "\n",
    "plotting(labels, no_alc, yes_alc, 'Appointments by Alcoholism presence', 0, 111000, 10000)\n"
   ]
  },
  {
   "cell_type": "code",
   "execution_count": 45,
   "metadata": {},
   "outputs": [
    {
     "name": "stdout",
     "output_type": "stream",
     "text": [
      "The proportion of missed appointments between alcoholic and non-alcoholic patients are: 20.0% and 20% respectively.\n"
     ]
    }
   ],
   "source": [
    "prop_no_alc = df_alc[2] / (df_alc[0] + df_alc[2])\n",
    "prop_alc = df_alc[3] / (df_alc[1] + df_alc[3])\n",
    "\n",
    "print('The proportion of missed appointments between alcoholic and non-alcoholic patients are: {}% and {}% respectively.'.format(round(100*prop_alc, 1), round(100*prop_no_alc), 1)) "
   ]
  },
  {
   "cell_type": "markdown",
   "metadata": {},
   "source": [
    "#### 4. Hipertension"
   ]
  },
  {
   "cell_type": "code",
   "execution_count": 46,
   "metadata": {},
   "outputs": [
    {
     "data": {
      "text/plain": [
       "no_show  hipertension\n",
       "No       0               69846\n",
       "         1               17948\n",
       "Yes      0               18370\n",
       "         1                3728\n",
       "Name: hipertension, dtype: int64"
      ]
     },
     "execution_count": 46,
     "metadata": {},
     "output_type": "execute_result"
    }
   ],
   "source": [
    "df_hiper = df_d.groupby(['no_show'])['hipertension'].value_counts()\n",
    "df_hiper"
   ]
  },
  {
   "cell_type": "code",
   "execution_count": 49,
   "metadata": {},
   "outputs": [
    {
     "data": {
      "image/png": "[encoded data removed]",
      "text/plain": [
       "<Figure size 432x288 with 1 Axes>"
      ]
     },
     "metadata": {
      "needs_background": "light"
     },
     "output_type": "display_data"
    }
   ],
   "source": [
    "labels = ['Non-hypertensive', 'Hypertensive']\n",
    "no_hiper = [df_hiper[0], df_hiper[1]]\n",
    "yes_hiper = [df_hiper[2], df_hiper[3]]\n",
    "\n",
    "\n",
    "plotting(labels, no_hiper, yes_hiper, 'Appointments by Hipertension presence', 0, 100000, 10000)\n"
   ]
  },
  {
   "cell_type": "code",
   "execution_count": 55,
   "metadata": {},
   "outputs": [
    {
     "name": "stdout",
     "output_type": "stream",
     "text": [
      "The proportion of missed appointments between patients with hipertension and non-hypertensive patients are: 17.2% and 21% respectively.\n"
     ]
    }
   ],
   "source": [
    "prop_no_hiper = df_hiper[2] / (df_hiper[0] + df_hiper[2])\n",
    "prop_hiper = df_hiper[3] / (df_hiper[1] + df_hiper[3])\n",
    "\n",
    "print('The proportion of missed appointments between patients with hipertension and non-hypertensive patients are: {}% and {}% respectively.'.format(round(100*prop_hiper, 1), round(100*prop_no_hiper), 1)) "
   ]
  },
  {
   "cell_type": "markdown",
   "metadata": {},
   "source": [
    "### Analysis: Do people benefited with scholaships have more absence rates rather than others?"
   ]
  },
  {
   "cell_type": "code",
   "execution_count": 56,
   "metadata": {
    "scrolled": true
   },
   "outputs": [
    {
     "data": {
      "text/plain": [
       "no_show  scholarship\n",
       "No       0              79549\n",
       "         1               8245\n",
       "Yes      0              19542\n",
       "         1               2556\n",
       "Name: scholarship, dtype: int64"
      ]
     },
     "execution_count": 56,
     "metadata": {},
     "output_type": "execute_result"
    }
   ],
   "source": [
    "df_bene = df_d.groupby(['no_show'])['scholarship'].value_counts()\n",
    "df_bene"
   ]
  },
  {
   "cell_type": "code",
   "execution_count": 59,
   "metadata": {},
   "outputs": [
    {
     "data": {
      "image/png": "[encoded data removed]",
      "text/plain": [
       "<Figure size 432x288 with 1 Axes>"
      ]
     },
     "metadata": {
      "needs_background": "light"
     },
     "output_type": "display_data"
    }
   ],
   "source": [
    "labels = ['Non-Benefited', 'Benefited']\n",
    "no_bene = [df_bene[0], df_bene[1]]\n",
    "yes_bene = [df_bene[2], df_bene[3]]\n",
    "\n",
    "plotting(labels, no_bene, yes_bene, 'Appointments by Benefited Patients', 0, 106000, 10000)"
   ]
  },
  {
   "cell_type": "code",
   "execution_count": 60,
   "metadata": {},
   "outputs": [
    {
     "name": "stdout",
     "output_type": "stream",
     "text": [
      "The rate of missed appointments between patients with scholarship and non-benefited patients are: 23.7% and 20% respectively.\n"
     ]
    }
   ],
   "source": [
    "prop_no_bene = df_bene[2] / (df_bene[0] + df_bene[2])\n",
    "prop_bene = df_bene[3] / (df_bene[1] + df_bene[3])\n",
    "\n",
    "print('The rate of missed appointments between patients with scholarship and non-benefited patients are: {}% and {}% respectively.'.format(round(100*prop_bene, 1), round(100*prop_no_bene), 1)) "
   ]
  },
  {
   "cell_type": "markdown",
   "metadata": {},
   "source": [
    "### Analysis: Are SMS reminders effective?  \n",
    "\n",
    "SMS reminders were sent to 35'482 of 109'892 patients (32.3%)"
   ]
  },
  {
   "cell_type": "code",
   "execution_count": 61,
   "metadata": {},
   "outputs": [
    {
     "data": {
      "text/plain": [
       "0    74410\n",
       "1    35482\n",
       "Name: sms_received, dtype: int64"
      ]
     },
     "execution_count": 61,
     "metadata": {},
     "output_type": "execute_result"
    }
   ],
   "source": [
    "df_d['sms_received'].value_counts()"
   ]
  },
  {
   "cell_type": "code",
   "execution_count": 62,
   "metadata": {
    "scrolled": true
   },
   "outputs": [
    {
     "data": {
      "text/plain": [
       "no_show  sms_received\n",
       "No       0               62096\n",
       "         1               25698\n",
       "Yes      0               12314\n",
       "         1                9784\n",
       "Name: sms_received, dtype: int64"
      ]
     },
     "execution_count": 62,
     "metadata": {},
     "output_type": "execute_result"
    }
   ],
   "source": [
    "df_sms = df_d.groupby(['no_show'])['sms_received'].value_counts()\n",
    "df_sms"
   ]
  },
  {
   "cell_type": "code",
   "execution_count": 66,
   "metadata": {},
   "outputs": [
    {
     "data": {
      "image/png": "[encoded data removed]",
      "text/plain": [
       "<Figure size 432x288 with 1 Axes>"
      ]
     },
     "metadata": {
      "needs_background": "light"
     },
     "output_type": "display_data"
    }
   ],
   "source": [
    "labels = ['Non-notified', 'Notified']\n",
    "no_sms = [df_sms[0], df_sms[1]]\n",
    "yes_sms = [df_sms[2], df_sms[3]]\n",
    "\n",
    "plotting(labels, no_sms, yes_sms, 'Appointments by notified patients', 0, 81000, 10000)"
   ]
  },
  {
   "cell_type": "code",
   "execution_count": 67,
   "metadata": {},
   "outputs": [
    {
     "name": "stdout",
     "output_type": "stream",
     "text": [
      "The rate of missed appointments between notified patients and non-notified patients are: 27.6% and 17% respectively.\n"
     ]
    }
   ],
   "source": [
    "prop_no_sms = df_sms[2] / (df_sms[0] + df_sms[2])\n",
    "prop_sms = df_sms[3] / (df_sms[1] + df_sms[3])\n",
    "\n",
    "print('The rate of missed appointments between notified patients and non-notified patients are: {}% and {}% respectively.'.format(round(100*prop_sms, 1), round(100*prop_no_sms), 1)) "
   ]
  },
  {
   "cell_type": "code",
   "execution_count": 87,
   "metadata": {},
   "outputs": [],
   "source": [
    "df_sms_received = df_d.query('sms_received == 1')\n"
   ]
  },
  {
   "cell_type": "code",
   "execution_count": 86,
   "metadata": {
    "scrolled": true
   },
   "outputs": [],
   "source": [
    "df_nosms_received = df_d.query('sms_received == 0')\n"
   ]
  },
  {
   "cell_type": "markdown",
   "metadata": {},
   "source": [
    "The difference between % in missed appointments could not be associated to a age factor. Age distribution is similar in people who received and people who did not received reminders. \n",
    "\n",
    "### Missed appointments by distance between scheduled day and appointment day:\n",
    "\n",
    "We will make a disttribution of missed appointments by the difference between scheduled day and appointment day: "
   ]
  },
  {
   "cell_type": "code",
   "execution_count": 85,
   "metadata": {},
   "outputs": [],
   "source": [
    "# credits to \"Substracting two date columns ...\" , https://stackoverflow.com/questions/37840812/pandas-subtracting-two-date-columns-and-the-result-being-an-integer\n",
    "df_d['delta'] = (df_d['appointment_day'] - df_d['scheduled_day']).dt.days\n",
    "delta = df_d.query('delta >= 0')\n"
   ]
  },
  {
   "cell_type": "code",
   "execution_count": 76,
   "metadata": {},
   "outputs": [
    {
     "data": {
      "image/png": "[encoded data removed]",
      "text/plain": [
       "<Figure size 432x288 with 1 Axes>"
      ]
     },
     "metadata": {
      "needs_background": "light"
     },
     "output_type": "display_data"
    }
   ],
   "source": [
    "labels = ['less than 7 days', '7 to 14 days', 'more than 14 days']\n",
    "\n",
    "a_week_no = delta.query(('delta <= 7 and no_show == \"No\"')).shape[0]\n",
    "a_week_yes = delta.query('delta <= 7 and no_show == \"Yes\"').shape[0]\n",
    "a_3_weeks_no = delta.query('delta > 14 and no_show == \"No\"').shape[0]\n",
    "a_3_weeks_yes = delta.query('delta > 14 and no_show == \"Yes\"').shape[0]\n",
    "a_2_weeks_no = delta.query('delta <= 14 and delta > 7 and no_show == \"No\"').shape[0]\n",
    "a_2_weeks_yes = delta.query('delta <= 14 and delta >7 and no_show == \"Yes\"').shape[0]\n",
    "list_no = [a_week_no, a_2_weeks_no, a_3_weeks_no]\n",
    "list_yes = [a_week_yes, a_2_weeks_yes, a_3_weeks_yes]\n",
    "\n",
    "rate_a_week = round(100 * a_week_yes / (a_week_yes + a_week_no), 2)\n",
    "rate_2_week = round(100 * a_2_weeks_yes / (a_2_weeks_yes + a_2_weeks_no),2)\n",
    "rate_3_week = round(100 * a_3_weeks_yes / (a_3_weeks_yes + a_3_weeks_no), 2)\n",
    "\n",
    "\n",
    "plotting(labels, list_no, list_yes, 'Appointments by distance notification - appointment day', 0, 40000, 5000)\n",
    "\n"
   ]
  },
  {
   "cell_type": "code",
   "execution_count": 72,
   "metadata": {
    "scrolled": true
   },
   "outputs": [
    {
     "name": "stdout",
     "output_type": "stream",
     "text": [
      "The missed appointments rate between each interval is: 24.43% for medical reservations with less than 7 days of difference, 31.18% for reservations up to 14 days and 32.59% for reservations booked with more than 21 days.\n"
     ]
    }
   ],
   "source": [
    "print('The missed appointments rate between each interval is: {}% for medical reservations with less than 7 days of difference, {}% for reservations up to 14 days and {}% for reservations booked with more than 21 days.'.format(rate_a_week, rate_2_week, rate_3_week))"
   ]
  },
  {
   "cell_type": "markdown",
   "metadata": {},
   "source": [
    "### Analysis: Missed appointments by age"
   ]
  },
  {
   "cell_type": "code",
   "execution_count": 73,
   "metadata": {},
   "outputs": [
    {
     "name": "stderr",
     "output_type": "stream",
     "text": [
      "<ipython-input-73-c0d4fde85172>:6: SettingWithCopyWarning: \n",
      "A value is trying to be set on a copy of a slice from a DataFrame.\n",
      "Try using .loc[row_indexer,col_indexer] = value instead\n",
      "\n",
      "See the caveats in the documentation: https://pandas.pydata.org/pandas-docs/stable/user_guide/indexing.html#returning-a-view-versus-a-copy\n",
      "  df_age['interval'] = pd.cut(df_age.loc[:, 'age'], bin_edges, labels = bin_names)\n"
     ]
    }
   ],
   "source": [
    "# credits to 'Conclusions using Groupby', https://classroom.udacity.com/nanodegrees/nd002-fund-gov/parts/b6d5ba91-071f-4801-8f57-1436289d1b6b/modules/05f3697f-b435-4c19-bc87-14a4a99cb695/lessons/852cac3e-f59c-4a1f-91fa-a66d031def45/concepts/d49caec2-028e-44fd-8392-5246a3b2cf11\n",
    "df_age = df_d.query('age >= 0')\n",
    "median = df_age['age'].median()\n",
    "bin_edges = [0, 18, 30, 55, 115]\n",
    "bin_names = ['1', '2', '3', '4']\n",
    "df_age['interval'] = pd.cut(df_age.loc[:, 'age'], bin_edges, labels = bin_names)"
   ]
  },
  {
   "cell_type": "code",
   "execution_count": 78,
   "metadata": {},
   "outputs": [
    {
     "data": {
      "text/plain": [
       "no_show  interval\n",
       "No       1           19525\n",
       "         2           12550\n",
       "         3           29712\n",
       "         4           23112\n",
       "Yes      1            5664\n",
       "         2            4105\n",
       "         3            7434\n",
       "         4            4259\n",
       "Name: interval, dtype: int64"
      ]
     },
     "execution_count": 78,
     "metadata": {},
     "output_type": "execute_result"
    }
   ],
   "source": [
    "df_interval = df_age.groupby(['no_show'])['interval'].value_counts()\n",
    "df_interval.sort_index(inplace = True)\n",
    "df_interval"
   ]
  },
  {
   "cell_type": "code",
   "execution_count": 88,
   "metadata": {},
   "outputs": [],
   "source": [
    "labels = ['under 18', '18 to 30', '30 to 55', 'over 55']\n",
    "height_no = []\n",
    "height_yes = []\n",
    "prop_yes = []\n",
    "\n",
    "for c in range(len(labels)):\n",
    "    height_no.append(df_interval[c])\n",
    "for c in range(len(labels), 2*len(labels)):\n",
    "    height_yes.append(df_interval[c])\n",
    "for c in range(len(labels)):\n",
    "    prop_yes.append(round(100 * height_yes[c]/(height_yes[c] + height_no[c]), 1))\n",
    "\n"
   ]
  },
  {
   "cell_type": "code",
   "execution_count": 80,
   "metadata": {
    "scrolled": true
   },
   "outputs": [
    {
     "data": {
      "image/png": "[encoded data removed]",
      "text/plain": [
       "<Figure size 432x288 with 1 Axes>"
      ]
     },
     "metadata": {
      "needs_background": "light"
     },
     "output_type": "display_data"
    }
   ],
   "source": [
    "plotting(labels, height_no, height_yes, 'Appointments by patients\\' age', 0, 40000, 5000)"
   ]
  },
  {
   "cell_type": "code",
   "execution_count": 81,
   "metadata": {},
   "outputs": [
    {
     "name": "stdout",
     "output_type": "stream",
     "text": [
      "The missed appointments rate between each interval is: 22.5% for patients under 18 years old, 24.6% for young adults (18-30),  20.0% for adults (30 to 55 years old), and 15.6% in patients over 55 years old.\n"
     ]
    }
   ],
   "source": [
    "print('The missed appointments rate between each interval is: {}% for patients under 18 years old, {}% for young adults (18-30),  {}% for adults (30 to 55 years old), and {}% in patients over 55 years old.'.format(prop_yes[0], prop_yes[1], prop_yes[2], prop_yes[3]))"
   ]
  },
  {
   "cell_type": "markdown",
   "metadata": {},
   "source": [
    "### Analysis: Missed appointments by weekday. "
   ]
  },
  {
   "cell_type": "code",
   "execution_count": 82,
   "metadata": {},
   "outputs": [
    {
     "data": {
      "text/plain": [
       "no_show  day\n",
       "No       0      17939\n",
       "         1      20408\n",
       "         2      20686\n",
       "         3      13862\n",
       "         4      14869\n",
       "         5         30\n",
       "Yes      0       4635\n",
       "         1       5099\n",
       "         2       5053\n",
       "         3       3312\n",
       "         4       3990\n",
       "         5          9\n",
       "Name: day, dtype: int64"
      ]
     },
     "execution_count": 82,
     "metadata": {},
     "output_type": "execute_result"
    }
   ],
   "source": [
    "df_d['day'] = df_d['appointment_day'].dt.weekday\n",
    "df_weekday = df_d.groupby(['no_show'])['day'].value_counts()\n",
    "df_weekday.sort_index(inplace = True)\n",
    "df_weekday"
   ]
  },
  {
   "cell_type": "code",
   "execution_count": 83,
   "metadata": {},
   "outputs": [
    {
     "data": {
      "image/png": "[encoded data removed]",
      "text/plain": [
       "<Figure size 432x288 with 1 Axes>"
      ]
     },
     "metadata": {
      "needs_background": "light"
     },
     "output_type": "display_data"
    }
   ],
   "source": [
    "labels = ['Monday', 'Tuesday', 'Wednesday', 'Thursday', 'Friday', 'Saturday']\n",
    "height_no = []\n",
    "height_yes = []\n",
    "prop_yes = []\n",
    "\n",
    "for c in range(len(labels)):\n",
    "    height_no.append(df_weekday[c])\n",
    "    \n",
    "for c in range(len(labels), 2*len(labels)):\n",
    "    height_yes.append(df_weekday[c])\n",
    "\n",
    "for c in range(len(labels)):\n",
    "    prop_yes.append(round(100 * height_yes[c]/(height_yes[c] + height_no[c]), 1))\n",
    "                                     \n",
    "plotting(labels, height_no, height_yes, 'Appointments by weekday', 0, 28000, 2500)\n"
   ]
  },
  {
   "cell_type": "code",
   "execution_count": 84,
   "metadata": {},
   "outputs": [
    {
     "data": {
      "text/plain": [
       "'The missed appointments rate by weekday are: 20.5% for mondays,  20.0% on tuesdays, 19.6% wednesdays, 19.3% on thursdays, 21.2% on fridays and 23.1% on saturdays.'"
      ]
     },
     "metadata": {},
     "output_type": "display_data"
    }
   ],
   "source": [
    "display('The missed appointments rate by weekday are: {}% for mondays,  {}% on tuesdays, {}% wednesdays, {}% on thursdays, {}% on fridays and {}% on saturdays.'.format(prop_yes[0],prop_yes[1], prop_yes[2], prop_yes[3], prop_yes[4], prop_yes[5]))"
   ]
  },
  {
   "cell_type": "markdown",
   "metadata": {},
   "source": [
    "## Conclusions\n",
    "\n",
    "The database used comprises a sample of medical appointments made in Brazil, between april and july, 2016. Related to the principal scopes in this project, the most relevant one is not knowing how this data was collected (Was effectively a non-skewed gathering?) and how much is this sample from the total population.  Hence,  it is not possible to \"generalize\" the trends seen in this study to the statistical population.\n",
    "\n",
    "#### Given the previous results, we can see that: \n",
    "1. From the total of medical appointment booked by women (71'417),  14'455 (20.2%) were missed, while the missed appointments between bookings made by men (38'475) is 7'643  (19.9%). It is not possible to infer that gender could affect the medical appointments' success rate. \n",
    "    \n",
    "    \n",
    "2. In the analysis between handicapped and non-handicapped patients, the rate of missed appointments is 18% (399 of 2219) for patients who declared a disability, while the rate between non-handicapped patients is 20% (21'699 of 107'673).\n",
    "    \n",
    "    \n",
    "3. In the analysis between patients with diabetes, the rate of missed appointments is 18% (1'422 of 7'893) for patients who suffer from it, while the rate between non-diabetic patients is 20% (20'676 of 101'999).\n",
    "    \n",
    "    \n",
    "4. The results between patients with alcoholism, the rate of missed appointments is 20% (668 of 3'344) for patients who suffer from it, while the rate between non-alcoholic patients is 20% (21'430 of 106'548).\n",
    "    \n",
    "    \n",
    "5. The results obtained from hypertensive patients indicates that 17.2% (3'728 of 21'676)  of the appointments made by them were missed. While, 21% (21'430 of 88'216) of patients without Hipertension missed their appointments.\n",
    "\n",
    "\n",
    "\n",
    "About the influence of economical benefits (Scholarships) in the rate of missed appointments, patients with scholarship use to miss 23.7% of the times. Non-benefited patients present 20% of absence. This scenario is the first one where it is possible to observe an important difference respect to the \"conventional\" patient (non-ill, non-benefited, etc.)\n",
    "\n",
    "\n",
    "According to the rate of missed appointments between notified patients and non-notified via SMS patients, those are: 27.6% and 17% respectively. Here there is an unusual trend, because the SMS sending does not achieve its goal.\n",
    "\n",
    "\n",
    "Among patients notified with a SMS reminder (and taking scheduled day column as the date when SMS was sent) : The missed appointments rate between each interval is: 24.43% for medical reservations with less than 7 days of difference, 31.18% for reservations up to 14 days and 32.59% for reservations booked with more than 21 days. There is an important finding related to the success of SMS implementation. It is advisable to resend a reminder with no more than a week in advance. It is recommendable to obtain the date/time when SMS was effectively sent to complement this scenario.\n",
    "\n",
    "\n",
    "There is not important differences in missed appointments per day: thurdays present the lowest rate (19.3%) while saturdays (23.1%) and fridays (21.2%) are the days with highest failed appointment rates.\n",
    "\n",
    "Respect to the missed appointments rate between each age range, those are the following: 22.5% for patients under 18 years old, 24.6% for young adults (18-30),  20.0% for adults (30 to 55 years old), and 15.6% in patients over 55 years old. It seems that elderly patients show more commitmment with their appointments. \n",
    "\n",
    "Despite the results, we can not assume they are representative of the  population. It is necessary to know if this sample is non-skewed (how was it collected, if it was systematic  gathered, etc.), and if this database is an important portion of the population. It is not possible to assume that any of the features studied in this report are causes of missing rates.\n"
   ]
  },
  {
   "cell_type": "code",
   "execution_count": null,
   "metadata": {},
   "outputs": [],
   "source": []
  }
 ],
 "metadata": {
  "kernelspec": {
   "display_name": "Python 3",
   "language": "python",
   "name": "python3"
  },
  "language_info": {
   "codemirror_mode": {
    "name": "ipython",
    "version": 3
   },
   "file_extension": ".py",
   "mimetype": "text/x-python",
   "name": "python",
   "nbconvert_exporter": "python",
   "pygments_lexer": "ipython3",
   "version": "3.8.5"
  }
 },
 "nbformat": 4,
 "nbformat_minor": 4
}
